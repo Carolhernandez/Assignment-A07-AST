{
 "cells": [
  {
   "cell_type": "markdown",
   "metadata": {},
   "source": [
    "# Weekly Assignment 1\n",
    "\n",
    "## Author: Carolina Hernández\n",
    "\n",
    "   ## Basics of python programming and probability: Generala\n",
    "    "
   ]
  },
  {
   "cell_type": "markdown",
   "metadata": {},
   "source": [
    "To do:\n",
    "1. Write a function that list all the possible outcomes with five dice.\n",
    "2. Write a function that takes a number of dices and return all the possible outcomes for that amount of dices.\n",
    "3. Write functions that return, given five dice, ​True​ or ​False​ if we have Straight, Full, Poker or Generala.\n",
    "4. Compute the probabilities that you already computed by hand by counting the outcomes describing each roll result in the list of all possible hands ​served​.\n",
    "5. Compute the probabilities that you already computed by hand by counting the outcomes describing each roll result in the list of all possible hands.\n",
    "6. Write a function that simulate a roll with n fair dices.\n",
    "7. Write a function that plays automatically, always looking for a Generala with a greedy strategy (always keeping the most dices of the same kind and rolling the others) that returns ​True​ if we get a Generala and a ​False​ otherwise. Which kind of distribution follow this function results? Explain your reasoning within the delivered python notebook.\n",
    "8. Write a function that plays until it gets a Generala, count how many times it had to play to get it and return this number. Which kind of distribution follow this function results? Explain your reasoning within the delivered python notebook."
   ]
  },
  {
   "cell_type": "markdown",
   "metadata": {},
   "source": [
    "## 1. Write a function that list all the possible outcomes with five dice.\n",
    "### If we are flipping the dice n times, all the possible outcomes are the permutations of six possible values [1,2,3,4,5,6] in a list of five elements, allowing repetitions is just  6**5."
   ]
  },
  {
   "cell_type": "code",
   "execution_count": 56,
   "metadata": {},
   "outputs": [],
   "source": [
    "def dice5():\n",
    "    allPossibleOutComes5 = [[]] # Create an empty list which will contain every possible result\n",
    "    # Each time I roll the dices\n",
    "    for dices in range(5):\n",
    "        # To all the existing already computed outputs\n",
    "        allPossibleOutComes5Copy = allPossibleOutComes5.copy() # Copy the previous results to keep track in the next loop\n",
    "        allPossibleOutComes5 = [] # Overwrite the initial list to remove the previous results\n",
    "        for intermediateOutcome in allPossibleOutComes5Copy: # For each outcome in the previous result\n",
    "            for outcome in [1,2,3,4,5,6]: \n",
    "                allPossibleOutComes5.append(intermediateOutcome + [outcome])\n",
    "\n",
    "    return allPossibleOutComes5\n"
   ]
  },
  {
   "cell_type": "markdown",
   "metadata": {},
   "source": [
    "## 2. Write a function that takes a number of dices and return all the possible outcomes for that amount of dices."
   ]
  },
  {
   "cell_type": "code",
   "execution_count": 29,
   "metadata": {},
   "outputs": [],
   "source": [
    "def diceToRoll(n): # Indicating the number of dice to roll\n",
    "    \"\"\"Returns a list with all possible outcomes of rolling n dice\"\"\"\n",
    "    outcomes = [[]]\n",
    "    for dice in range(n):\n",
    "        previousOutcome = outcomes.copy()\n",
    "        outcomes = []\n",
    "        for result in previousOutcome:\n",
    "            for points in range(1, 7):\n",
    "                outcome.append(result + [points])\n",
    "    return outcomes"
   ]
  },
  {
   "cell_type": "markdown",
   "metadata": {},
   "source": [
    "## 3. Write functions that return, given five dice, ​True​ or ​False​ if we have Straight, Full, Poker or Generala."
   ]
  },
  {
   "cell_type": "code",
   "execution_count": 20,
   "metadata": {},
   "outputs": [],
   "source": [
    "def generala(dice):\n",
    "    return len(set(dice)) == 1\n",
    "\n",
    "def poker(dice):\n",
    "    cmc = most_common(dice)\n",
    "    return dice.count(cmc) >= 4\n",
    "\n",
    "def fullhouse(dice):\n",
    "    cmc = most_common(dice)\n",
    "    return dice.count(cmc) == 3 and len(set(dice)) == 2\n",
    "\n",
    "def escalera(dice):\n",
    "    s = set(dice)\n",
    "    return s == {1, 2, 3, 4, 5} or s == {2, 3, 4, 5, 6} or s == {1, 3, 4, 5, 6}\n"
   ]
  },
  {
   "cell_type": "markdown",
   "metadata": {},
   "source": [
    "## 4. Compute the probabilities that you already computed by hand by counting the outcomes describing each roll result in the list of all possible hands ​served​."
   ]
  },
  {
   "cell_type": "code",
   "execution_count": 57,
   "metadata": {},
   "outputs": [
    {
     "name": "stdout",
     "output_type": "stream",
     "text": [
      "The probability of getting a Straight with a served hand is 0.09259.\n"
     ]
    }
   ],
   "source": [
    "def prob_served_straight():\n",
    "    all_outcomes = dice5()\n",
    "    fav_outcomes = [outcome for outcome in all_outcomes if len(set(outcome)) == 5]\n",
    "    return len(fav_outcomes) / len(all_outcomes)\n",
    "\n",
    "print(\"The probability of getting a Straight with a served hand is %.5f.\" %(prob_served_straight()))"
   ]
  },
  {
   "cell_type": "code",
   "execution_count": 59,
   "metadata": {},
   "outputs": [
    {
     "name": "stdout",
     "output_type": "stream",
     "text": [
      "The probability of getting a Full with a served hand is 0.03858.\n"
     ]
    }
   ],
   "source": [
    "def prob_served_full():\n",
    "    all_outcomes = dice5()\n",
    "    fav_outcomes = [outcome for outcome in all_outcomes if ((len(set(outcome)) == 2) &\n",
    "                    (outcome.count(set(outcome).pop()) in [2, 3]))]\n",
    "    return len(fav_outcomes) / len(all_outcomes)\n",
    "\n",
    "print(\"The probability of getting a Full with a served hand is %.5f.\" %(prob_served_full()))"
   ]
  },
  {
   "cell_type": "code",
   "execution_count": 60,
   "metadata": {},
   "outputs": [
    {
     "name": "stdout",
     "output_type": "stream",
     "text": [
      "The probability of getting a Poker with a served hand is 0.01929.\n"
     ]
    }
   ],
   "source": [
    "def prob_served_poker():\n",
    "    all_outcomes = dice5()\n",
    "    fav_outcomes = [outcome for outcome in all_outcomes if ((len(set(outcome)) == 2) &\n",
    "                    (outcome.count(set(outcome).pop()) in [1, 4]))]\n",
    "    return len(fav_outcomes) / len(all_outcomes)\n",
    "\n",
    "print(\"The probability of getting a Poker with a served hand is %.5f.\" %(prob_served_poker()))"
   ]
  },
  {
   "cell_type": "code",
   "execution_count": 61,
   "metadata": {},
   "outputs": [
    {
     "name": "stdout",
     "output_type": "stream",
     "text": [
      "The probability of getting a Generala with a served hand is 0.00077.\n"
     ]
    }
   ],
   "source": [
    "def prob_served_generala():\n",
    "    all_outcomes = dice5()\n",
    "    fav_outcomes = [outcome for outcome in all_outcomes if len(set(outcome)) == 1]\n",
    "    return len(fav_outcomes) / len(all_outcomes)\n",
    "\n",
    "print(\"The probability of getting a Generala with a served hand is %.5f.\" %(prob_served_generala()))"
   ]
  },
  {
   "cell_type": "markdown",
   "metadata": {},
   "source": [
    "## 5. Compute the probabilities that you already computed by hand by counting the outcomes describing each roll result in the list of all possible hands"
   ]
  },
  {
   "cell_type": "markdown",
   "metadata": {},
   "source": [
    "## 6. Write a function that simulate a roll with n fair dices."
   ]
  },
  {
   "cell_type": "code",
   "execution_count": 42,
   "metadata": {},
   "outputs": [],
   "source": [
    "from random import randint\n",
    "def roll(n):\n",
    "    \"\"\"Returns a list with the results of a roll with n dice\"\"\"\n",
    "    return [randint(1, 6) for dice in range(n)]"
   ]
  },
  {
   "cell_type": "markdown",
   "metadata": {},
   "source": [
    "## 7. Write a function that plays automatically, always looking for a Generala with a greedy strategy (always keeping the most dice of the same kind and rolling the others) that returns True if we get a Generala and a False otherwise. Which kind of distribution follow this function results? Explain your reasoning within the delivered python notebook"
   ]
  },
  {
   "cell_type": "code",
   "execution_count": 43,
   "metadata": {},
   "outputs": [],
   "source": [
    "def generala_game():\n",
    "    \"\"\"Returns True if a Generala was obtained or False otherwise\"\"\"\n",
    "    roll1 = roll(5)  # First roll\n",
    "    if len(set(roll1)) == 1:  # If it is a Generala, return True\n",
    "        return True\n",
    "    else:  # Second roll\n",
    "        keep_num = max(set(roll1), key = roll1.count)  # Get the most repeated value in the roll\n",
    "        keep_dice = roll1.count(keep_num)  # Get the number of dice with that value in the roll\n",
    "        roll2 = roll(5 - keep_dice) + [keep_num] * keep_dice  # Roll again the non-repeated dice and keep the rest\n",
    "        if len(set(roll2)) == 1:\n",
    "            return True\n",
    "        else:  # Third roll\n",
    "            keep_num = max(set(roll2), key = roll2.count)\n",
    "            keep_dice = roll2.count(keep_num)\n",
    "            roll3 = roll(5 - keep_dice) + [keep_num] * keep_dice\n",
    "            return len(set(roll3)) == 1"
   ]
  },
  {
   "cell_type": "code",
   "execution_count": 44,
   "metadata": {},
   "outputs": [],
   "source": [
    "list_results = [int(generala_game()) for result in range(10000)]"
   ]
  },
  {
   "cell_type": "code",
   "execution_count": 45,
   "metadata": {},
   "outputs": [
    {
     "data": {
      "text/plain": [
       "[Text(0, 0.5, 'Frequency'), Text(0.5, 0, 'Bernoulli Distribution')]"
      ]
     },
     "execution_count": 45,
     "metadata": {},
     "output_type": "execute_result"
    },
    {
     "data": {
      "image/png": "[encoded data removed]",
      "text/plain": [
       "<Figure size 432x288 with 1 Axes>"
      ]
     },
     "metadata": {
      "needs_background": "light"
     },
     "output_type": "display_data"
    }
   ],
   "source": [
    "%matplotlib inline\n",
    "import seaborn as sns\n",
    "\n",
    "graph = sns.distplot(list_results, bins = 10, kde = False)\n",
    "graph.set(xlabel = \"Bernoulli Distribution\", ylabel= \"Frequency\")"
   ]
  },
  {
   "cell_type": "markdown",
   "metadata": {},
   "source": [
    "## 8. Write a function that plays until it gets a Generala, count how many times it had to play to get it and return this number. Which kind of distribution follow this function results? Explain your reasoning within the delivered python notebook"
   ]
  },
  {
   "cell_type": "code",
   "execution_count": 46,
   "metadata": {},
   "outputs": [],
   "source": [
    "def generala():\n",
    "    counter = 1\n",
    "    while True:\n",
    "        if generalaGame():\n",
    "            return counter\n",
    "            break\n",
    "        else:\n",
    "            counter += 1"
   ]
  },
  {
   "cell_type": "code",
   "execution_count": 47,
   "metadata": {},
   "outputs": [],
   "source": [
    "list_results = [generala() for result in range(10000)]"
   ]
  },
  {
   "cell_type": "code",
   "execution_count": 49,
   "metadata": {},
   "outputs": [
    {
     "data": {
      "text/plain": [
       "[Text(0, 0.5, 'Frequency'), Text(0.5, 0, 'Exponential Distribution')]"
      ]
     },
     "execution_count": 49,
     "metadata": {},
     "output_type": "execute_result"
    },
    {
     "data": {
      "image/png": "[encoded data removed]",
      "text/plain": [
       "<Figure size 432x288 with 1 Axes>"
      ]
     },
     "metadata": {
      "needs_background": "light"
     },
     "output_type": "display_data"
    }
   ],
   "source": [
    "%matplotlib inline\n",
    "import seaborn as sns\n",
    "\n",
    "graph = sns.distplot(list_results, kde = False)\n",
    "graph.set(xlabel = \"Exponential Distribution\", ylabel= \"Frequency\")"
   ]
  }
 ],
 "metadata": {
  "kernelspec": {
   "display_name": "Python 3",
   "language": "python",
   "name": "python3"
  },
  "language_info": {
   "codemirror_mode": {
    "name": "ipython",
    "version": 3
   },
   "file_extension": ".py",
   "mimetype": "text/x-python",
   "name": "python",
   "nbconvert_exporter": "python",
   "pygments_lexer": "ipython3",
   "version": "3.8.1"
  }
 },
 "nbformat": 4,
 "nbformat_minor": 4
}
